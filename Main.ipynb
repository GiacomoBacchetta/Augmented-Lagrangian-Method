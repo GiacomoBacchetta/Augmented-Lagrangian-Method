{
 "cells": [
  {
   "cell_type": "code",
   "execution_count": 1,
   "id": "d67970c3",
   "metadata": {
    "scrolled": true
   },
   "outputs": [
    {
     "data": {
      "application/javascript": [
       "IPython.notebook.set_autosave_interval(40000)"
      ]
     },
     "metadata": {},
     "output_type": "display_data"
    },
    {
     "name": "stdout",
     "output_type": "stream",
     "text": [
      "Autosaving every 40 seconds\n"
     ]
    }
   ],
   "source": [
    "%autosave 40"
   ]
  },
  {
   "cell_type": "code",
   "execution_count": 2,
   "id": "9a043592",
   "metadata": {},
   "outputs": [],
   "source": [
    "import numpy as np\n",
    "from autograd import grad\n",
    "from AIL import newton_troncato \n",
    "import matplotlib.pyplot as plt"
   ]
  },
  {
   "cell_type": "code",
   "execution_count": 3,
   "id": "6ea1df1e",
   "metadata": {},
   "outputs": [],
   "source": [
    "g = []\n",
    "h = []"
   ]
  },
  {
   "cell_type": "markdown",
   "id": "99bcfb5d",
   "metadata": {},
   "source": [
    "# TEST PROBLEMS"
   ]
  },
  {
   "cell_type": "markdown",
   "id": "d23faf75",
   "metadata": {},
   "source": [
    "## NO NAME"
   ]
  },
  {
   "cell_type": "code",
   "execution_count": 4,
   "id": "35b87f2f",
   "metadata": {},
   "outputs": [],
   "source": [
    "# def f(x):\n",
    "#     return -x[0]-x[1]\n",
    "\n",
    "# def h1(x):\n",
    "#     return x[0]**2 + x[1]**2 - 1\n",
    "# h.append(h1)\n",
    "\n",
    "# x0 = np.array([-1.,-1.])\n",
    "\n",
    "\n",
    "\n",
    "# AUGLAG: STOP! KKT conditions satisfied.\n",
    "# AUGLAG: Best point is: [0.70710658 0.70710658] with lambda= [] and mu= [0.7071443845219652]\n",
    "# AUGLAG: Value of the objective function: -1.4142131549642725\n",
    "#         [True, 7.479924034704434e-05, 0]"
   ]
  },
  {
   "cell_type": "markdown",
   "id": "79c296f3",
   "metadata": {
    "heading_collapsed": true
   },
   "source": [
    "## MARATOS"
   ]
  },
  {
   "cell_type": "code",
   "execution_count": 5,
   "id": "f7fd7921",
   "metadata": {
    "hidden": true
   },
   "outputs": [],
   "source": [
    "# def f(x):\n",
    "#     return -x[0] + 2*(x[0]**2 + x[1]**2 -1)\n",
    "\n",
    "# def h1(x):\n",
    "#     return x[0]**2 + x[1]**2 - 1\n",
    "# h.append(h1)\n",
    "\n",
    "# x0 = np.array([-1. , -1.])\n",
    "\n",
    "\n",
    "\n",
    "# AUGLAG: STOP! KKT conditions satisfied.\n",
    "# AUGLAG: Best point is: [ 9.99938099e-01 -6.72762635e-04] with lambda= [] and mu= [-1.4998927461361513]\n",
    "# AUGLAG: Value of the objective function: -1.00018478975495\n",
    "#         [True, 0.000689991708455042, 0]"
   ]
  },
  {
   "cell_type": "markdown",
   "id": "38ff7c8e",
   "metadata": {
    "heading_collapsed": true
   },
   "source": [
    "## HS14"
   ]
  },
  {
   "cell_type": "code",
   "execution_count": 6,
   "id": "dbcf466e",
   "metadata": {
    "hidden": true
   },
   "outputs": [],
   "source": [
    "# def f(x):\n",
    "#     return (x[0]-2)**2 + (x[1]-1)**2\n",
    "\n",
    "# def g1(x):\n",
    "#     return (x[0]**2)/4 + x[1]**2 - 1\n",
    "# g.append(g1)\n",
    "\n",
    "# def h1(x):\n",
    "#     return x[0] - 2*x[1] + 1\n",
    "# h.append(h1)\n",
    "\n",
    "# x0 = np.array([2. , 2.])\n",
    "\n",
    "# AUGLAG: STOP! KKT conditions satisfied.\n",
    "# AUGLAG: Best point is: [0.82286772 0.91143556] with lambda= [1.847563370260473] and mu= [1.5949414741312022]\n",
    "# AUGLAG: Value of the objective function: 1.3934840743568566\n",
    "#         [True, 0.0011917568312738395, -1.3673047214715525e-05]"
   ]
  },
  {
   "cell_type": "markdown",
   "id": "8f74254d",
   "metadata": {
    "heading_collapsed": true
   },
   "source": [
    "## HS41"
   ]
  },
  {
   "cell_type": "code",
   "execution_count": 7,
   "id": "b63943ca",
   "metadata": {
    "hidden": true
   },
   "outputs": [],
   "source": [
    "# def f(x):\n",
    "#     return 2-x[0]*x[1]*x[2]\n",
    "\n",
    "# def h1(x):\n",
    "#     return (x[0]+2*x[1]+2*x[2]-x[3])\n",
    "# h.append(h1)\n",
    "\n",
    "# def g1(x):\n",
    "#     return (x[0]-1) \n",
    "# g.append(g1)\n",
    "\n",
    "# def g2(x):\n",
    "#     return -(x[0]) \n",
    "# g.append(g2)\n",
    "\n",
    "# def g3(x):\n",
    "#     return -(x[1]) \n",
    "# g.append(g3)\n",
    "\n",
    "# def g4(x):\n",
    "#     return -(x[2]) \n",
    "# g.append(g4)\n",
    "\n",
    "# def g5(x):\n",
    "#     return -(x[3])\n",
    "# g.append(g5)\n",
    "\n",
    "# def g6(x):\n",
    "#     return (x[1]-1) \n",
    "# g.append(g6)\n",
    "\n",
    "# def g7(x):\n",
    "#     return (x[2]-1) \n",
    "# g.append(g7)\n",
    "\n",
    "# def g8(x):\n",
    "#     return (x[3]-1) \n",
    "# g.append(g8)\n",
    "\n",
    "# x0 = np.array([2.0,2.0,2.0,2.0])\n",
    "\n",
    "\n",
    "# AUGLAG: STOP! KKT conditions satisfied.\n",
    "# AUGLAG: Best point is: [0.3274852  0.16812701 0.16812701 0.99999108] with lambda= [0.0, 0.0, 0.0, 0.0, 0.0, 0.0, 0.0, 0.027780182182193247] and mu= [0.02765404324929177]\n",
    "# AUGLAG: Value of the objective function: 1.990743076488402\n",
    "#         [True, 0.0007177949812547051, -2.477294339602456e-07]"
   ]
  },
  {
   "cell_type": "markdown",
   "id": "25a2c10f",
   "metadata": {
    "heading_collapsed": true
   },
   "source": [
    "## HS32"
   ]
  },
  {
   "cell_type": "code",
   "execution_count": 8,
   "id": "e7aa735e",
   "metadata": {
    "hidden": true
   },
   "outputs": [],
   "source": [
    "# def f(x):\n",
    "#     return (x[0]+ 3*x[1]+ x[2])**2 + 4*(x[0]-x[1])**2\n",
    "\n",
    "# def h1(x):\n",
    "#     return x[0] + x[1] + x[2] -1\n",
    "# h.append(h1)\n",
    "\n",
    "# def g1(x):\n",
    "#     return -6*x[1] - 4*x[2] + x[0]**3 + 3\n",
    "# g.append(g1)\n",
    "\n",
    "# def g2(x):\n",
    "#     return -x[0]\n",
    "# g.append(g2)\n",
    "\n",
    "# def g3(x):\n",
    "#     return -x[1]\n",
    "# g.append(g3)\n",
    "\n",
    "# def g4(x):\n",
    "#     return -x[2]\n",
    "# g.append(g4)\n",
    "\n",
    "# x0 = np.array([0.1,0.7,0.2])\n",
    "\n",
    "\n",
    "# AUGLAG: STOP! KKT conditions satisfied.\n",
    "# AUGLAG: Best point is: [ 4.80199496e-06 -2.38217143e-06  9.99997473e-01] with lambda= [0.0, 0.0, 3.99991213298043, 0.0] and mu= [-2.000004828917133]\n",
    "# AUGLAG: Value of the objective function: 0.9999902577284485\n",
    "#         [True, 4.545674804597757e-05, 9.528476394247975e-06]"
   ]
  },
  {
   "cell_type": "markdown",
   "id": "cd437097",
   "metadata": {
    "heading_collapsed": true
   },
   "source": [
    "## HS60"
   ]
  },
  {
   "cell_type": "code",
   "execution_count": 9,
   "id": "5c9c7275",
   "metadata": {
    "hidden": true
   },
   "outputs": [],
   "source": [
    "# def f(x):\n",
    "#     return (x[0]-1)**2+(x[0]- x[1])**2+(x[1]-x[2])**4\n",
    "\n",
    "# def h1(x):\n",
    "#     return (x[0]*(1+x[1]**2)+x[2]**4-4-3*2**0.5)\n",
    "# h.append(h1)\n",
    "\n",
    "# def g1(x):\n",
    "#     return (x[0]-10) \n",
    "# g.append(g1)\n",
    "\n",
    "# def g2(x):\n",
    "#     return -(x[0]+10) \n",
    "# g.append(g2)\n",
    "\n",
    "# def g3(x):\n",
    "#     return -(x[1]+10) \n",
    "# g.append(g3)\n",
    "\n",
    "# def g4(x):\n",
    "#     return -(x[2]+10) \n",
    "# g.append(g4)\n",
    "\n",
    "# def g5(x):\n",
    "#     return (x[1]-10)\n",
    "# g.append(g5)\n",
    "\n",
    "# def g6(x):\n",
    "#     return (x[2]-10) \n",
    "# g.append(g6)\n",
    "\n",
    "# x0 = np.array([2.0,2.0,2.0])\n",
    "\n",
    "\n",
    "\n",
    "# AUGLAG: STOP! KKT conditions satisfied.\n",
    "# AUGLAG: Best point is: [1.10484924 1.19665543 1.53526623] with lambda= [0.0, 0.0, 0.0, 0.0, 0.0, 0.0] and mu= [-0.010728066873639364]\n",
    "# AUGLAG: Value of the objective function: 0.03256803052236032\n",
    "#         [True, 5.331797506213554e-05, 0.0]"
   ]
  },
  {
   "cell_type": "markdown",
   "id": "1781f016",
   "metadata": {},
   "source": [
    "# AUGMENTED LAGRANGIAN METHOD"
   ]
  },
  {
   "cell_type": "markdown",
   "id": "bc7b6f71",
   "metadata": {
    "heading_collapsed": true
   },
   "source": [
    "## Support's function"
   ]
  },
  {
   "cell_type": "markdown",
   "id": "77855c84",
   "metadata": {
    "heading_collapsed": true,
    "hidden": true
   },
   "source": [
    "### Karush-Kuhn-Tucker conditions"
   ]
  },
  {
   "cell_type": "code",
   "execution_count": 10,
   "id": "89c18905",
   "metadata": {
    "hidden": true
   },
   "outputs": [],
   "source": [
    "def verify_KKT(f, g, h, x, lam, mu):\n",
    "    ep = 1e-4\n",
    "\n",
    "    kkt = grad(f)(x)+sum(lam[i]*grad(g[i])(x) for i in range(len(g))) + sum(mu[j]*grad(h[j])(x) for j in range(len(h)))\n",
    "    compl = sum(lam[i]*g[i](x) for i in range(len(g)))\n",
    "\n",
    "    for i in range(len(g)):\n",
    "        if g[i](x) > ep or lam[i]*g[i](x) > ep or lam[i]*g[i](x) < -ep:\n",
    "            return [False, np.linalg.norm(kkt), compl]\n",
    "    for j in range(len(h)):\n",
    "        if h[j](x) > ep or h[j](x) < -ep:\n",
    "            return [False, np.linalg.norm(kkt), compl]\n",
    "\n",
    "    lb = np.zeros(len(kkt))\n",
    "    ub = np.zeros(len(kkt))\n",
    "\n",
    "    for i in range(len(kkt)):\n",
    "        lb[i] = -ep\n",
    "        ub[i] = ep\n",
    "        \n",
    "    if np.linalg.norm(kkt) < 1e-3:\n",
    "        return [True, np.linalg.norm(kkt), compl]\n",
    "\n",
    "    if (kkt > ub).any() or (kkt < lb).any():\n",
    "        return [False, np.linalg.norm(kkt), compl]\n",
    "\n",
    "    return [True, np.linalg.norm(kkt), compl]"
   ]
  },
  {
   "cell_type": "markdown",
   "id": "8359f470",
   "metadata": {
    "heading_collapsed": true,
    "hidden": true
   },
   "source": [
    "### Other"
   ]
  },
  {
   "cell_type": "code",
   "execution_count": 11,
   "id": "3d97bc39",
   "metadata": {
    "hidden": true
   },
   "outputs": [],
   "source": [
    "lam = []\n",
    "mu = []\n",
    "\n",
    "for i in range(len(g)):\n",
    "    lam.append((max(0, g[i](x0)))*2)\n",
    "\n",
    "for j in range(len(h)):\n",
    "    mu.append((h[j](x0))*2)"
   ]
  },
  {
   "cell_type": "code",
   "execution_count": 12,
   "id": "6fbdb1f9",
   "metadata": {
    "hidden": true
   },
   "outputs": [],
   "source": [
    "def L(x):\n",
    "    return f(x) + sum(h[j](x)*mu[j] for j in range(len(h)))+sum(lam[i]*max(g[i](x),((-epsilon_p)/2)*lam[i]) for i in range(len(g))) + (1/epsilon_p)*sum(max((- epsilon_p/2 * lam[i]), g[i](x))**2 for i in range(len(g))) + (1/epsilon_p)*sum(h[j](x)**2 for j in range(len(h)))"
   ]
  },
  {
   "cell_type": "markdown",
   "id": "59acef9b",
   "metadata": {
    "heading_collapsed": true
   },
   "source": [
    "## Main "
   ]
  },
  {
   "cell_type": "code",
   "execution_count": 13,
   "id": "ce723f38",
   "metadata": {
    "code_folding": [],
    "hidden": true
   },
   "outputs": [],
   "source": [
    "def aug_lag(f, g, h, x0):\n",
    "    \n",
    "    global epsilon_p\n",
    "    global mu\n",
    "    global lam\n",
    "\n",
    "    x = []\n",
    "    x.append(x0)\n",
    "\n",
    "    epsilon = 1   \n",
    "    beta = 2\n",
    "    tau = 1\n",
    "    rho = 1e-10\n",
    "    \n",
    "    epsilon_p = epsilon\n",
    "\n",
    "    k = 0\n",
    "    while k <= 50:\n",
    "        \n",
    "        epsilon_p = epsilon\n",
    "        \n",
    "        print('*'*100)\n",
    "        print('AUGLAG: Iteration:', k)\n",
    "        print('AUGLAG: Current tau:', tau)\n",
    "        print('AUGLAG: Current mu:', mu)\n",
    "        print('AUGLAG: Current lam:', lam)\n",
    "        print('AUGLAG: Current point:', x[k])\n",
    "        print('AUGLAG: Current value of the objective function:', f(x[k]))\n",
    "        print('AUGLAG: Current L gradient norm:', np.linalg.norm(grad(L)(x[k])))\n",
    "        \n",
    "        \n",
    "        if len(x0) == 2:\n",
    "            plt.figure()\n",
    "            plt.xlabel(\"X1\")\n",
    "            plt.ylabel(\"X2\")\n",
    "\n",
    "            cx = np.linspace(-4, 4, 80)\n",
    "            cy = np.linspace(-4, 4, 80)\n",
    "\n",
    "            z = np.ndarray((len(cx),len(cy)))\n",
    "\n",
    "            for o in range(0, len(cx)):\n",
    "                for p in range(0, len(cy)):\n",
    "                    xcalc = np.array([cx[o],cy[p]])\n",
    "                    z[o][p] = L(xcalc)\n",
    "                    \n",
    "            plt.contourf(cx, cy, z)\n",
    "\n",
    "            x1 = x[k][0]\n",
    "            x2 = x[k][1]\n",
    "            plt.scatter(x1,x2, color = 'black')\n",
    "\n",
    "            plt.show()\n",
    "\n",
    "\n",
    "        m = newton_troncato(L, x[k], tau)[0]\n",
    "        x.append(m)\n",
    "        \n",
    "        k = k + 1\n",
    "\n",
    "        if np.linalg.norm(grad(L)(x[k])) < rho:\n",
    "            \n",
    "            print('='*100)\n",
    "            print('AUGLAG: Iteration:', k)\n",
    "            print('AUFLAG: Exit for NORM CONDITION')\n",
    "            print('AUGLAG: Best point:', x[k])\n",
    "            print('AUGLAG: Value of the objective funciton:', f(x[k]))\n",
    "            print('AUGLAG: L gradient norm:', np.linalg.norm(grad(L)(x[k])))\n",
    "            \n",
    "            if len(x0) == 2:\n",
    "                plt.figure()\n",
    "                plt.xlabel(\"X1\")\n",
    "                plt.ylabel(\"X2\")\n",
    "\n",
    "                cx = np.linspace(-4, 4, 80)\n",
    "                cy = np.linspace(-4, 4, 80)\n",
    "\n",
    "                z = np.ndarray((len(cx),len(cy)))\n",
    "\n",
    "                for o in range(0, len(cx)):\n",
    "                    for p in range(0, len(cy)):\n",
    "                        xcalc = np.array([cx[o],cy[p]])\n",
    "                        z[o][p] = L(xcalc)\n",
    "\n",
    "                plt.contourf(cx, cy, z)\n",
    "\n",
    "                x1 = x[k][0]\n",
    "                x2 = x[k][1]\n",
    "                plt.scatter(x1,x2, color = 'black')\n",
    "\n",
    "                plt.show()\n",
    "            return (x[k], lam, mu)\n",
    "        \n",
    "        if verify_KKT(f, g, h, x[k], lam, mu)[0] == True:\n",
    "            print('*'*70)\n",
    "            print('AUGLAG: Iteration:', k)\n",
    "            print('AUGLAG: STOP! KKT conditions satisfied.')\n",
    "            print('AUGLAG: Best point is:', x[k] ,'with lambda=',lam,'and mu=',mu)\n",
    "            print('AUGLAG: Value of the objective function:', f(x[k]))\n",
    "            print('AUGLAG: L gradient norm:', np.linalg.norm(grad(L)(x[k])))\n",
    "            \n",
    "            print(' '*100)\n",
    "            print('AUGLAG: Iteration:', k)\n",
    "            print('AUGLAG: Final point:', x[k])\n",
    "            print('AUGLAG: Final lam:', lam)\n",
    "            print('AUGLAG: Final mu:', mu)\n",
    "            print('AUGLAG: L gradient norm:', np.linalg.norm(grad(L)(x[k])))\n",
    "            \n",
    "            if len(x0) == 2:\n",
    "                plt.figure()\n",
    "                plt.xlabel(\"X1\")\n",
    "                plt.ylabel(\"X2\")\n",
    "\n",
    "                cx = np.linspace(-4, 4, 80)\n",
    "                cy = np.linspace(-4, 4, 80)\n",
    "\n",
    "                z = np.ndarray((len(cx),len(cy)))\n",
    "\n",
    "                for o in range(0, len(cx)):\n",
    "                    for p in range(0, len(cy)):\n",
    "                        xcalc = np.array([cx[o],cy[p]])\n",
    "                        z[o][p] = L(xcalc)\n",
    "\n",
    "                plt.contourf(cx, cy, z)\n",
    "\n",
    "                x1 = x[k][0]\n",
    "                x2 = x[k][1]\n",
    "                plt.scatter(x1,x2, color = 'black')\n",
    "\n",
    "                plt.show()\n",
    "            print('KKT RESUME:', verify_KKT(f, g, h, x[k], lam, mu))\n",
    "            return (x[k], lam, mu)\n",
    "        \n",
    "        for i in range(len(g)):\n",
    "            lam[i] = lam[i] + (2/epsilon) * max(g[i](x[k]), (-epsilon/2) * lam[i])\n",
    "\n",
    "        for j in range(len(h)):\n",
    "            mu[j] = mu[j] + (2/epsilon) * h[j](x[k])\n",
    "        \n",
    "        \n",
    "        epsilon = epsilon/beta\n",
    "            \n",
    "        tau = tau * 0.3\n",
    " \n",
    "    print('='*100)\n",
    "    print('AUGLAG: Iteration:', k)\n",
    "    print('AUGLAG: Exit for end iteration')\n",
    "    print('AUGLAG: Best point:', x[k])\n",
    "    print('AUGLAG: Value of the objective funciton:', f(x[k]))\n",
    "    print('AUGLAG: L gradient norm:', np.linalg.norm(grad(L)(x[k])))\n",
    "    print('AUGLAG: Norm of KKT:', verify_KKT(f, g, h, x[k], lam, mu)[1])\n",
    "    \n",
    "    if len(x0) == 2:\n",
    "        plt.figure()\n",
    "        plt.xlabel(\"X1\")\n",
    "        plt.ylabel(\"X2\")\n",
    "\n",
    "        cx = np.linspace(-4, 4, 80)\n",
    "        cy = np.linspace(-4, 4, 80)\n",
    "\n",
    "        z = np.ndarray((len(cx),len(cy)))\n",
    "\n",
    "        for o in range(0, len(cx)):\n",
    "            for p in range(0, len(cy)):\n",
    "                xcalc = np.array([cx[o],cy[p]])\n",
    "                z[o][p] = L(xcalc)\n",
    "\n",
    "        plt.contourf(cx, cy, z)\n",
    "\n",
    "        x1 = x[k][0]\n",
    "        x2 = x[k][1]\n",
    "        plt.scatter(x1,x2, color = 'black')\n",
    "\n",
    "        plt.show()\n",
    "    print('KKT RESUME:', verify_KKT(f, g, h, x[k], lam, mu))\n",
    "        \n",
    "    return (x[k], lam, mu)"
   ]
  },
  {
   "cell_type": "markdown",
   "id": "eb23c4d8",
   "metadata": {},
   "source": [
    "# Implementation"
   ]
  },
  {
   "cell_type": "code",
   "execution_count": 14,
   "id": "5090ab2f",
   "metadata": {
    "scrolled": false
   },
   "outputs": [
    {
     "ename": "NameError",
     "evalue": "name 'f' is not defined",
     "output_type": "error",
     "traceback": [
      "\u001b[1;31m---------------------------------------------------------------------------\u001b[0m",
      "\u001b[1;31mNameError\u001b[0m                                 Traceback (most recent call last)",
      "\u001b[1;32m<ipython-input-14-26dea8f0ab7b>\u001b[0m in \u001b[0;36m<module>\u001b[1;34m\u001b[0m\n\u001b[1;32m----> 1\u001b[1;33m \u001b[0mx_star\u001b[0m \u001b[1;33m=\u001b[0m \u001b[0maug_lag\u001b[0m\u001b[1;33m(\u001b[0m\u001b[0mf\u001b[0m\u001b[1;33m,\u001b[0m \u001b[0mg\u001b[0m\u001b[1;33m,\u001b[0m \u001b[0mh\u001b[0m\u001b[1;33m,\u001b[0m \u001b[0mx0\u001b[0m\u001b[1;33m)\u001b[0m\u001b[1;33m\u001b[0m\u001b[1;33m\u001b[0m\u001b[0m\n\u001b[0m",
      "\u001b[1;31mNameError\u001b[0m: name 'f' is not defined"
     ]
    }
   ],
   "source": [
    "x_star = aug_lag(f, g, h, x0)"
   ]
  },
  {
   "cell_type": "code",
   "execution_count": null,
   "id": "8576d66c",
   "metadata": {},
   "outputs": [],
   "source": [
    "if len(x0) == 2:\n",
    "    \n",
    "    fig, axes = plt.subplots(1,1)\n",
    "\n",
    "    plt.xlabel(\"X1\")\n",
    "    plt.ylabel(\"X2\")\n",
    "\n",
    "    cx = np.linspace(-4, 4, 80)\n",
    "    cy = np.linspace(-4, 4, 80)\n",
    "\n",
    "    z = np.ndarray((len(cx),len(cy)))\n",
    "    lollo = np.ndarray((len(cx),len(cy)))\n",
    "\n",
    "    for o in range(0, len(cx)):\n",
    "        for p in range(0, len(cy)):\n",
    "            xcalc = np.array([cx[o],cy[p]])\n",
    "            z[o][p] = f(xcalc)\n",
    "            \n",
    "    plt.contourf(cx, cy, z)\n",
    "\n",
    "    x1 = x_star[0][0]\n",
    "    x2 = x_star[0][1]\n",
    "    \n",
    "    plt.scatter(x1,x2, color='black')\n",
    "    \n",
    "    if g == []:\n",
    "        draw_circle = plt.Circle((0, 0), 1, fill=False, color = 'red')\n",
    "        axes.set_aspect(0.7)\n",
    "        axes.add_artist(draw_circle)\n",
    "    \n",
    "    else:\n",
    "        x_3p = np.linspace(-4,4,100)\n",
    "        y_3p = (x_3p + 1)/2\n",
    "        x_3p1 = np.linspace(-2,2,100)\n",
    "        y_3p1 = (1 - (x_3p1**2)/4)**0.5 \n",
    "        \n",
    "        axes.set_aspect(0.7)\n",
    "        plt.plot(x_3p, y_3p, 'r')\n",
    "        plt.plot(x_3p1, y_3p1, 'b')\n",
    "        \n",
    "\n",
    "    plt.show()"
   ]
  },
  {
   "cell_type": "code",
   "execution_count": null,
   "id": "86dee894",
   "metadata": {},
   "outputs": [],
   "source": []
  }
 ],
 "metadata": {
  "kernelspec": {
   "display_name": "Python 3",
   "language": "python",
   "name": "python3"
  },
  "language_info": {
   "codemirror_mode": {
    "name": "ipython",
    "version": 3
   },
   "file_extension": ".py",
   "mimetype": "text/x-python",
   "name": "python",
   "nbconvert_exporter": "python",
   "pygments_lexer": "ipython3",
   "version": "3.8.8"
  },
  "varInspector": {
   "cols": {
    "lenName": 16,
    "lenType": 16,
    "lenVar": 40
   },
   "kernels_config": {
    "python": {
     "delete_cmd_postfix": "",
     "delete_cmd_prefix": "del ",
     "library": "var_list.py",
     "varRefreshCmd": "print(var_dic_list())"
    },
    "r": {
     "delete_cmd_postfix": ") ",
     "delete_cmd_prefix": "rm(",
     "library": "var_list.r",
     "varRefreshCmd": "cat(var_dic_list()) "
    }
   },
   "types_to_exclude": [
    "module",
    "function",
    "builtin_function_or_method",
    "instance",
    "_Feature"
   ],
   "window_display": false
  }
 },
 "nbformat": 4,
 "nbformat_minor": 5
}
