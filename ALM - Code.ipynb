{
 "cells": [
  {
   "cell_type": "markdown",
   "id": "745bb81a",
   "metadata": {},
   "source": [
    "# Constrained optimization: Augmented Lagrangian Method\n",
    "* ## Giacomo Bacchetta, bacchetta.1840949@studenti.uniroma1.it\n",
    "* ## Edoardo Cesaroni, cesaroni.1841742@studenti.uniroma1.it "
   ]
  },
  {
   "cell_type": "markdown",
   "id": "88315f66",
   "metadata": {},
   "source": [
    "## Support's functions"
   ]
  },
  {
   "cell_type": "markdown",
   "id": "0b331e44",
   "metadata": {},
   "source": [
    "We import the python libraries useful for the implementation of the method. These are:\n",
    "- $\\bf{Numpy}$, which contains several math functions;\n",
    "- $\\bf{Autograd}$, used to calculate the gradient (*grad*) of several functions;\n",
    "- $\\bf{AIL}$, which allows us to use simple mathematical functions;\n",
    "- $\\bf{matplotlib}$, which allows us to graphically represent the results of the algorithm."
   ]
  },
  {
   "cell_type": "code",
   "execution_count": 1,
   "id": "9a043592",
   "metadata": {},
   "outputs": [],
   "source": [
    "import numpy as np\n",
    "from autograd import grad\n",
    "from AIL import newton_troncato \n",
    "import matplotlib.pyplot as plt"
   ]
  },
  {
   "cell_type": "markdown",
   "id": "707b93ad",
   "metadata": {},
   "source": [
    "### KKT Conditions"
   ]
  },
  {
   "cell_type": "markdown",
   "id": "97e0a15a",
   "metadata": {},
   "source": [
    "This function allows to verify with an accuracy equal to Epsilon how much a point respects the Karush-Kuhn-Tucker conditions that are the necessary conditions of first order for a constrained optimization problem."
   ]
  },
  {
   "cell_type": "code",
   "execution_count": 2,
   "id": "89c18905",
   "metadata": {
    "hidden": true
   },
   "outputs": [],
   "source": [
    "def verify_KKT(f, g, h, x, lam, mu):\n",
    "    ep = 1e-4\n",
    "\n",
    "    kkt = grad(f)(x)+sum(lam[i]*grad(g[i])(x) for i in range(len(g))) + sum(mu[j]*grad(h[j])(x) for j in range(len(h)))\n",
    "    compl = sum(lam[i]*g[i](x) for i in range(len(g)))\n",
    "\n",
    "    for i in range(len(g)):\n",
    "        if g[i](x) > ep or lam[i]*g[i](x) > ep or lam[i]*g[i](x) < -ep:\n",
    "            return [False, np.linalg.norm(kkt), compl]\n",
    "    for j in range(len(h)):\n",
    "        if h[j](x) > ep or h[j](x) < -ep:\n",
    "            return [False, np.linalg.norm(kkt), compl]\n",
    "\n",
    "    lb = np.zeros(len(kkt))\n",
    "    ub = np.zeros(len(kkt))\n",
    "\n",
    "    for i in range(len(kkt)):\n",
    "        lb[i] = -ep\n",
    "        ub[i] = ep\n",
    "        \n",
    "    if np.linalg.norm(kkt) < 1e-3:\n",
    "        return [True, np.linalg.norm(kkt), compl]\n",
    "\n",
    "    if (kkt > ub).any() or (kkt < lb).any():\n",
    "        return [False, np.linalg.norm(kkt), compl]\n",
    "\n",
    "    return [True, np.linalg.norm(kkt), compl]"
   ]
  },
  {
   "cell_type": "markdown",
   "id": "c822c078",
   "metadata": {},
   "source": [
    "### Other useful function"
   ]
  },
  {
   "cell_type": "markdown",
   "id": "85f2878c",
   "metadata": {},
   "source": [
    "*L* represents the lagrangian function."
   ]
  },
  {
   "cell_type": "code",
   "execution_count": 3,
   "id": "6fbdb1f9",
   "metadata": {
    "hidden": true
   },
   "outputs": [],
   "source": [
    "def L(x):\n",
    "    return f(x) + sum(h[j](x)*mu[j] for j in range(len(h)))+sum(lam[i]*max(g[i](x),((-epsilon_p)/2)*lam[i]) for i in range(len(g))) + (1/epsilon_p)*sum(max((- epsilon_p/2 * lam[i]), g[i](x))**2 for i in range(len(g))) + (1/epsilon_p)*sum(h[j](x)**2 for j in range(len(h)))"
   ]
  },
  {
   "cell_type": "markdown",
   "id": "1781f016",
   "metadata": {},
   "source": [
    "## Augmented Lagrangian Method"
   ]
  },
  {
   "cell_type": "markdown",
   "id": "c40a3d73",
   "metadata": {},
   "source": [
    "### Plotting delle curve di livello"
   ]
  },
  {
   "cell_type": "code",
   "execution_count": 4,
   "id": "98486261",
   "metadata": {},
   "outputs": [],
   "source": [
    "def contourf_plot(x, k):\n",
    "    \n",
    "    plt.figure()\n",
    "    plt.xlabel(\"X1\")\n",
    "    plt.ylabel(\"X2\")\n",
    "\n",
    "    cx = np.linspace(-4, 4, 80)\n",
    "    cy = np.linspace(-4, 4, 80)\n",
    "\n",
    "    z = np.ndarray((len(cx),len(cy)))\n",
    "\n",
    "    for o in range(0, len(cx)):\n",
    "        for p in range(0, len(cy)):\n",
    "            xcalc = np.array([cx[o],cy[p]])\n",
    "            z[o][p] = L(xcalc)\n",
    "\n",
    "    plt.contourf(cx, cy, z)\n",
    "\n",
    "    x1 = x[k][0]\n",
    "    x2 = x[k][1]\n",
    "    plt.scatter(x1,x2, color = 'black')\n",
    "\n",
    "    plt.show()"
   ]
  },
  {
   "cell_type": "markdown",
   "id": "1cf30462",
   "metadata": {},
   "source": [
    "### Final plotting function"
   ]
  },
  {
   "cell_type": "code",
   "execution_count": 5,
   "id": "0556d07d",
   "metadata": {},
   "outputs": [],
   "source": [
    "def ending_plot(x, k):\n",
    "    \n",
    "        fig, axes = plt.subplots(1,1)\n",
    "\n",
    "        plt.xlabel(\"X1\")\n",
    "        plt.ylabel(\"X2\")\n",
    "\n",
    "        cx = np.linspace(-4, 4, 80)\n",
    "        cy = np.linspace(-4, 4, 80)\n",
    "\n",
    "        z = np.ndarray((len(cx),len(cy)))\n",
    "        lollo = np.ndarray((len(cx),len(cy)))\n",
    "\n",
    "        for o in range(0, len(cx)):\n",
    "            for p in range(0, len(cy)):\n",
    "                xcalc = np.array([cx[o],cy[p]])\n",
    "                z[o][p] = f(xcalc)\n",
    "\n",
    "        plt.contourf(cx, cy, z)\n",
    "        \n",
    "        x1 = x[k][0]\n",
    "        x2 = x[k][1]\n",
    "\n",
    "        plt.scatter(x1,x2, color='black')\n",
    "\n",
    "        if g == []:\n",
    "            draw_circle = plt.Circle((0, 0), 1, fill=False, color = 'red')\n",
    "            axes.set_aspect(0.7)\n",
    "            axes.add_artist(draw_circle)\n",
    "\n",
    "        else:\n",
    "            x_3p = np.linspace(-4,4,100)\n",
    "            y_3p = (x_3p + 1)/2\n",
    "            x_3p1 = np.linspace(-2,2,100)\n",
    "            y_3p1 = (1 - (x_3p1**2)/4)**0.5 \n",
    "\n",
    "            axes.set_aspect(0.7)\n",
    "            plt.plot(x_3p, y_3p, 'r')\n",
    "            plt.plot(x_3p1, y_3p1, 'b')\n",
    "\n",
    "\n",
    "        plt.show()"
   ]
  },
  {
   "cell_type": "markdown",
   "id": "59acef9b",
   "metadata": {
    "heading_collapsed": true
   },
   "source": [
    "### Main "
   ]
  },
  {
   "cell_type": "code",
   "execution_count": 6,
   "id": "ce723f38",
   "metadata": {
    "code_folding": [],
    "hidden": true
   },
   "outputs": [],
   "source": [
    "def aug_lag(f, g, h, x0):\n",
    "    \n",
    "    global epsilon_p\n",
    "    global mu\n",
    "    global lam\n",
    "\n",
    "    x = []\n",
    "    x.append(x0)\n",
    "\n",
    "    epsilon = 1   \n",
    "    beta = 2\n",
    "    tau = 1\n",
    "    rho = 1e-10\n",
    "    \n",
    "    epsilon_p = epsilon\n",
    "    \n",
    "    lam = []\n",
    "    mu = []\n",
    "\n",
    "    for i in range(len(g)):\n",
    "        lam.append((max(0, g[i](x0)))*2)\n",
    "\n",
    "    for j in range(len(h)):\n",
    "        mu.append((h[j](x0))*2)\n",
    "        \n",
    "    k = 0\n",
    "    while k <= 50:\n",
    "        \n",
    "        epsilon_p = epsilon\n",
    "   \n",
    "        m = newton_troncato(L, x[k], tau)[0]\n",
    "        x.append(m)\n",
    "        \n",
    "        k = k + 1\n",
    "        \n",
    "\n",
    "        if np.linalg.norm(grad(L)(x[k])) < rho:\n",
    "\n",
    "            print('Exit for L norm condition: ', np.linalg.norm(grad(L)(x[k])) )\n",
    "            print('The optimum point is:', x[k], 'and the value of the objective function is: ', f(x[k]))\n",
    "            print('The list of lambda coefficients is: ', lam)\n",
    "            print('The list of mu coefficients is: ', mu)\n",
    "            \n",
    "            if len(x0) == 2:\n",
    "                contourf_plot(x, k)\n",
    "                ending_plot(x, k)\n",
    "                \n",
    "            return (x[k], lam, mu)\n",
    "        \n",
    "        \n",
    "        if verify_KKT(f, g, h, x[k], lam, mu)[0] == True:\n",
    "            \n",
    "            print('Exit for KKT condition. Value of KKT norm is: ', verify_KKT(f, g, h, x[k], lam, mu)[1])\n",
    "            print('The optimum point is:', x[k], 'and the value of the objective function is: ', f(x[k]))\n",
    "            print('The list of lambda coefficients is: ', lam)\n",
    "            print('The list of mu coefficients is: ', mu)\n",
    "            print('Value of the L gradient norm:', np.linalg.norm(grad(L)(x[k])))\n",
    "            \n",
    "            if len(x0) == 2:\n",
    "                contourf_plot(x, k)\n",
    "                ending_plot(x, k)\n",
    "                \n",
    "            return (x[k], lam, mu)\n",
    "        \n",
    "        \n",
    "        for i in range(len(g)):\n",
    "            lam[i] = lam[i] + (2/epsilon) * max(g[i](x[k]), (-epsilon/2) * lam[i])\n",
    "\n",
    "        for j in range(len(h)):\n",
    "            mu[j] = mu[j] + (2/epsilon) * h[j](x[k])\n",
    "        \n",
    "        epsilon = epsilon/beta\n",
    "            \n",
    "        tau = tau * 0.3\n",
    "\n",
    "    print('Exit for end iterations')\n",
    "    print('The optimum point is:', x[k], 'and the value of the objective function is: ', f(x[k]))\n",
    "    print('The list of lambda coefficients is: ', lam)\n",
    "    print('The list of mu coefficients is: ', mu)\n",
    "    print('Value of the L gradient norm:', np.linalg.norm(grad(L)(x[k])))\n",
    "    \n",
    "    if len(x0) == 2:\n",
    "        contourf_plot(x, k)\n",
    "        ending_plot(x, k)\n",
    "        \n",
    "    return (x[k], lam, mu)"
   ]
  },
  {
   "cell_type": "markdown",
   "id": "99bcfb5d",
   "metadata": {},
   "source": [
    "## IMPLEMENTATION TEST"
   ]
  },
  {
   "cell_type": "markdown",
   "id": "d23faf75",
   "metadata": {},
   "source": [
    "* ### Problem 1"
   ]
  },
  {
   "cell_type": "code",
   "execution_count": 7,
   "id": "9e473427",
   "metadata": {},
   "outputs": [
    {
     "name": "stdout",
     "output_type": "stream",
     "text": [
      "Exit for KKT condition. Value of KKT norm is:  7.479924034704434e-05\n",
      "The optimum point is: [0.70710658 0.70710658] and the value of the objective function is:  -1.4142131549642725\n",
      "The list of lambda coefficients is:  []\n",
      "The list of mu coefficients is:  [0.7071443845219652]\n",
      "Value of the L gradient norm: 1.0503976808445227e-06\n"
     ]
    },
    {
     "data": {
      "image/png": "[encoded data removed]",
      "text/plain": [
       "<Figure size 432x288 with 1 Axes>"
      ]
     },
     "metadata": {
      "needs_background": "light"
     },
     "output_type": "display_data"
    },
    {
     "data": {
      "image/png": "[encoded data removed]",
      "text/plain": [
       "<Figure size 432x288 with 1 Axes>"
      ]
     },
     "metadata": {
      "needs_background": "light"
     },
     "output_type": "display_data"
    },
    {
     "data": {
      "text/plain": [
       "(array([0.70710658, 0.70710658]), [], [0.7071443845219652])"
      ]
     },
     "execution_count": 7,
     "metadata": {},
     "output_type": "execute_result"
    }
   ],
   "source": [
    "g = []\n",
    "h = []\n",
    "\n",
    "def f(x):\n",
    "    return -x[0]-x[1]\n",
    "\n",
    "def h1(x):\n",
    "    return x[0]**2 + x[1]**2 - 1\n",
    "h.append(h1)\n",
    "\n",
    "x0 = np.array([-1.,-1.])\n",
    "\n",
    "\n",
    "aug_lag(f, g, h, x0)"
   ]
  },
  {
   "cell_type": "markdown",
   "id": "79c296f3",
   "metadata": {
    "heading_collapsed": true
   },
   "source": [
    "* ### Maratos' problem"
   ]
  },
  {
   "cell_type": "code",
   "execution_count": 8,
   "id": "f7fd7921",
   "metadata": {
    "hidden": true
   },
   "outputs": [
    {
     "name": "stdout",
     "output_type": "stream",
     "text": [
      "Exit for KKT condition. Value of KKT norm is:  0.000668918232703713\n",
      "The optimum point is: [ 9.99999736e-01 -6.68874810e-04] and the value of the objective function is:  -0.9999998985357933\n",
      "The list of lambda coefficients is:  []\n",
      "The list of mu coefficients is:  [-1.500003901156717]\n",
      "Value of the L gradient norm: 0.0006694809032741134\n"
     ]
    },
    {
     "data": {
      "image/png": "[encoded data removed]",
      "text/plain": [
       "<Figure size 432x288 with 1 Axes>"
      ]
     },
     "metadata": {
      "needs_background": "light"
     },
     "output_type": "display_data"
    },
    {
     "data": {
      "image/png": "[encoded data removed]",
      "text/plain": [
       "<Figure size 432x288 with 1 Axes>"
      ]
     },
     "metadata": {
      "needs_background": "light"
     },
     "output_type": "display_data"
    },
    {
     "data": {
      "text/plain": [
       "(array([ 9.99999736e-01, -6.68874810e-04]), [], [-1.500003901156717])"
      ]
     },
     "execution_count": 8,
     "metadata": {},
     "output_type": "execute_result"
    }
   ],
   "source": [
    "g = []\n",
    "h = []\n",
    "\n",
    "def f(x):\n",
    "    return -x[0] + 2*(x[0]**2 + x[1]**2 -1)\n",
    "\n",
    "def h1(x):\n",
    "    return x[0]**2 + x[1]**2 - 1\n",
    "h.append(h1)\n",
    "\n",
    "x0 = np.array([-1. , -1.])\n",
    "\n",
    "\n",
    "aug_lag(f, g, h, x0)"
   ]
  },
  {
   "cell_type": "markdown",
   "id": "38ff7c8e",
   "metadata": {
    "heading_collapsed": true
   },
   "source": [
    "* ### Problem HS14"
   ]
  },
  {
   "cell_type": "code",
   "execution_count": 9,
   "id": "dbcf466e",
   "metadata": {
    "hidden": true
   },
   "outputs": [
    {
     "name": "stdout",
     "output_type": "stream",
     "text": [
      "Exit for KKT condition. Value of KKT norm is:  3.1728957415007534e-06\n",
      "The optimum point is: [0.82286772 0.91143556] and the value of the objective function is:  1.3934840743568566\n",
      "The list of lambda coefficients is:  [1.8466160955571231]\n",
      "The list of mu coefficients is:  [1.5945057574231338]\n",
      "Value of the L gradient norm: 0.0023742875250582964\n"
     ]
    },
    {
     "data": {
      "image/png": "[encoded data removed]",
      "text/plain": [
       "<Figure size 432x288 with 1 Axes>"
      ]
     },
     "metadata": {
      "needs_background": "light"
     },
     "output_type": "display_data"
    },
    {
     "data": {
      "image/png": "[encoded data removed]",
      "text/plain": [
       "<Figure size 432x288 with 1 Axes>"
      ]
     },
     "metadata": {
      "needs_background": "light"
     },
     "output_type": "display_data"
    },
    {
     "data": {
      "text/plain": [
       "(array([0.82286772, 0.91143556]), [1.8466160955571231], [1.5945057574231338])"
      ]
     },
     "execution_count": 9,
     "metadata": {},
     "output_type": "execute_result"
    }
   ],
   "source": [
    "g = []\n",
    "h = []\n",
    "\n",
    "def f(x):\n",
    "    return (x[0]-2)**2 + (x[1]-1)**2\n",
    "\n",
    "def g1(x):\n",
    "    return (x[0]**2)/4 + x[1]**2 - 1\n",
    "g.append(g1)\n",
    "\n",
    "def h1(x):\n",
    "    return x[0] - 2*x[1] + 1\n",
    "h.append(h1)\n",
    "\n",
    "x0 = np.array([2. , 2.])\n",
    "\n",
    "\n",
    "aug_lag(f, g, h, x0)"
   ]
  },
  {
   "cell_type": "markdown",
   "id": "8f74254d",
   "metadata": {
    "heading_collapsed": true
   },
   "source": [
    "* ### Problem HS41"
   ]
  },
  {
   "cell_type": "code",
   "execution_count": 10,
   "id": "b63943ca",
   "metadata": {
    "hidden": true
   },
   "outputs": [
    {
     "name": "stdout",
     "output_type": "stream",
     "text": [
      "Exit for KKT condition. Value of KKT norm is:  0.0007177949812547051\n",
      "The optimum point is: [0.3274852  0.16812701 0.16812701 0.99999108] and the value of the objective function is:  1.990743076488402\n",
      "The list of lambda coefficients is:  [0.0, 0.0, 0.0, 0.0, 0.0, 0.0, 0.0, 0.027780182182193247]\n",
      "The list of mu coefficients is:  [0.02765404324929177]\n",
      "Value of the L gradient norm: 0.003326582327801289\n"
     ]
    },
    {
     "data": {
      "text/plain": [
       "(array([0.3274852 , 0.16812701, 0.16812701, 0.99999108]),\n",
       " [0.0, 0.0, 0.0, 0.0, 0.0, 0.0, 0.0, 0.027780182182193247],\n",
       " [0.02765404324929177])"
      ]
     },
     "execution_count": 10,
     "metadata": {},
     "output_type": "execute_result"
    }
   ],
   "source": [
    "g = []\n",
    "h = []\n",
    "\n",
    "def f(x):\n",
    "    return 2-x[0]*x[1]*x[2]\n",
    "\n",
    "def h1(x):\n",
    "    return (x[0]+2*x[1]+2*x[2]-x[3])\n",
    "h.append(h1)\n",
    "\n",
    "def g1(x):\n",
    "    return (x[0]-1) \n",
    "g.append(g1)\n",
    "\n",
    "def g2(x):\n",
    "    return -(x[0]) \n",
    "g.append(g2)\n",
    "\n",
    "def g3(x):\n",
    "    return -(x[1]) \n",
    "g.append(g3)\n",
    "\n",
    "def g4(x):\n",
    "    return -(x[2]) \n",
    "g.append(g4)\n",
    "\n",
    "def g5(x):\n",
    "    return -(x[3])\n",
    "g.append(g5)\n",
    "\n",
    "def g6(x):\n",
    "    return (x[1]-1) \n",
    "g.append(g6)\n",
    "\n",
    "def g7(x):\n",
    "    return (x[2]-1) \n",
    "g.append(g7)\n",
    "\n",
    "def g8(x):\n",
    "    return (x[3]-1) \n",
    "g.append(g8)\n",
    "\n",
    "x0 = np.array([2.0,2.0,2.0,2.0])\n",
    "\n",
    "\n",
    "aug_lag(f, g, h, x0)"
   ]
  },
  {
   "cell_type": "markdown",
   "id": "25a2c10f",
   "metadata": {
    "heading_collapsed": true
   },
   "source": [
    "* ### Problem HS32"
   ]
  },
  {
   "cell_type": "code",
   "execution_count": 11,
   "id": "e7aa735e",
   "metadata": {
    "hidden": true
   },
   "outputs": [
    {
     "name": "stdout",
     "output_type": "stream",
     "text": [
      "Exit for KKT condition. Value of KKT norm is:  4.545674804597757e-05\n",
      "The optimum point is: [ 4.80199496e-06 -2.38217143e-06  9.99997473e-01] and the value of the objective function is:  0.9999902577284485\n",
      "The list of lambda coefficients is:  [0.0, 0.0, 3.99991213298043, 0.0]\n",
      "The list of mu coefficients is:  [-2.000004828917133]\n",
      "Value of the L gradient norm: 0.0025563594392414134\n"
     ]
    },
    {
     "data": {
      "text/plain": [
       "(array([ 4.80199496e-06, -2.38217143e-06,  9.99997473e-01]),\n",
       " [0.0, 0.0, 3.99991213298043, 0.0],\n",
       " [-2.000004828917133])"
      ]
     },
     "execution_count": 11,
     "metadata": {},
     "output_type": "execute_result"
    }
   ],
   "source": [
    "g = []\n",
    "h = []\n",
    "\n",
    "def f(x):\n",
    "    return (x[0]+ 3*x[1]+ x[2])**2 + 4*(x[0]-x[1])**2\n",
    "\n",
    "def h1(x):\n",
    "    return x[0] + x[1] + x[2] -1\n",
    "h.append(h1)\n",
    "\n",
    "def g1(x):\n",
    "    return -6*x[1] - 4*x[2] + x[0]**3 + 3\n",
    "g.append(g1)\n",
    "\n",
    "def g2(x):\n",
    "    return -x[0]\n",
    "g.append(g2)\n",
    "\n",
    "def g3(x):\n",
    "    return -x[1]\n",
    "g.append(g3)\n",
    "\n",
    "def g4(x):\n",
    "    return -x[2]\n",
    "g.append(g4)\n",
    "\n",
    "x0 = np.array([0.1,0.7,0.2])\n",
    "\n",
    "\n",
    "aug_lag(f, g, h, x0)"
   ]
  },
  {
   "cell_type": "markdown",
   "id": "cd437097",
   "metadata": {
    "heading_collapsed": true
   },
   "source": [
    "* ### Problem HS60"
   ]
  },
  {
   "cell_type": "code",
   "execution_count": 12,
   "id": "5c9c7275",
   "metadata": {
    "hidden": true
   },
   "outputs": [
    {
     "name": "stdout",
     "output_type": "stream",
     "text": [
      "Exit for KKT condition. Value of KKT norm is:  5.331797506213554e-05\n",
      "The optimum point is: [1.10484924 1.19665543 1.53526623] and the value of the objective function is:  0.03256803052236032\n",
      "The list of lambda coefficients is:  [0.0, 0.0, 0.0, 0.0, 0.0, 0.0]\n",
      "The list of mu coefficients is:  [-0.010728066873639364]\n",
      "Value of the L gradient norm: 0.03029867227828999\n"
     ]
    },
    {
     "data": {
      "text/plain": [
       "(array([1.10484924, 1.19665543, 1.53526623]),\n",
       " [0.0, 0.0, 0.0, 0.0, 0.0, 0.0],\n",
       " [-0.010728066873639364])"
      ]
     },
     "execution_count": 12,
     "metadata": {},
     "output_type": "execute_result"
    }
   ],
   "source": [
    "g = []\n",
    "h = []\n",
    "\n",
    "def f(x):\n",
    "    return (x[0]-1)**2+(x[0]- x[1])**2+(x[1]-x[2])**4\n",
    "\n",
    "def h1(x):\n",
    "    return (x[0]*(1+x[1]**2)+x[2]**4-4-3*2**0.5)\n",
    "h.append(h1)\n",
    "\n",
    "def g1(x):\n",
    "    return (x[0]-10) \n",
    "g.append(g1)\n",
    "\n",
    "def g2(x):\n",
    "    return -(x[0]+10) \n",
    "g.append(g2)\n",
    "\n",
    "def g3(x):\n",
    "    return -(x[1]+10) \n",
    "g.append(g3)\n",
    "\n",
    "def g4(x):\n",
    "    return -(x[2]+10) \n",
    "g.append(g4)\n",
    "\n",
    "def g5(x):\n",
    "    return (x[1]-10)\n",
    "g.append(g5)\n",
    "\n",
    "def g6(x):\n",
    "    return (x[2]-10) \n",
    "g.append(g6)\n",
    "\n",
    "x0 = np.array([2.0,2.0,2.0])\n",
    "\n",
    "\n",
    "aug_lag(f, g, h, x0)"
   ]
  }
 ],
 "metadata": {
  "kernelspec": {
   "display_name": "Python 3",
   "language": "python",
   "name": "python3"
  },
  "language_info": {
   "codemirror_mode": {
    "name": "ipython",
    "version": 3
   },
   "file_extension": ".py",
   "mimetype": "text/x-python",
   "name": "python",
   "nbconvert_exporter": "python",
   "pygments_lexer": "ipython3",
   "version": "3.8.8"
  },
  "varInspector": {
   "cols": {
    "lenName": 16,
    "lenType": 16,
    "lenVar": 40
   },
   "kernels_config": {
    "python": {
     "delete_cmd_postfix": "",
     "delete_cmd_prefix": "del ",
     "library": "var_list.py",
     "varRefreshCmd": "print(var_dic_list())"
    },
    "r": {
     "delete_cmd_postfix": ") ",
     "delete_cmd_prefix": "rm(",
     "library": "var_list.r",
     "varRefreshCmd": "cat(var_dic_list()) "
    }
   },
   "types_to_exclude": [
    "module",
    "function",
    "builtin_function_or_method",
    "instance",
    "_Feature"
   ],
   "window_display": false
  }
 },
 "nbformat": 4,
 "nbformat_minor": 5
}
